{
  "nbformat": 4,
  "nbformat_minor": 0,
  "metadata": {
    "colab": {
      "provenance": []
    },
    "kernelspec": {
      "name": "python3",
      "display_name": "Python 3"
    },
    "language_info": {
      "name": "python"
    }
  },
  "cells": [
    {
      "cell_type": "code",
      "execution_count": null,
      "metadata": {
        "id": "-JF1OIzfp9-0"
      },
      "outputs": [],
      "source": [
        "import numpy as np\n",
        "import pandas as pd\n",
        "import matplotlib.pyplot as plt\n",
        "pd.set_option('display.max_rows',None)"
      ]
    },
    {
      "cell_type": "code",
      "source": [
        "ipdata=pd.read_csv(\"output.txt\",sep='\\t',header=None,names=['file_name','label','start','end','content','normal'],na_filter=False)\n",
        "ipdata=ipdata.fillna(\"NULL\")\n",
        "\n",
        "PHI=frozenset({\"PATIENT\",\"DOCTOR\",\"USERNAME\",\"PROFESSION\",\"ROOM\",\"DEPARTMENT\",\"HOSPITAL\",\"ORGANIZATION\",\"STREET\",\"CITY\",\"STATE\",\n",
        "        \"COUNTRY\",\"ZIP\",\"LOCATION-OTHER\",\"AGE\",\"DATE\",\"TIME\",\"DURATION\",\"SET\",\"PHONE\",\"FAX\",\"EMAIL\",\"URL\",\"IPADDR\",\"SSN\",\n",
        "        \"MEDICALRECORD\",\"HEALTHPLAN\",\"ACCOUNT\",\"LICENSE\",\"VECHICLE\",\"DEVICE\",\"BIOID\",\"IDNUM\",\"OTHER\"})\n",
        "\n",
        "for i in range(len(ipdata)):\n",
        "   if (ipdata.loc[i][\"content\"]==\"NULL\"):\n",
        "    ipdata=ipdata.drop(i)\n",
        "   elif (ipdata.loc[i][\"label\"] not in PHI):\n",
        "    ipdata=ipdata.drop(i)\n",
        "   elif(len(ipdata.loc[i][\"content\"]) > 100 or len(ipdata.loc[i][\"normal\"]) > 100):\n",
        "    ipdata=ipdata.drop(i)\n",
        "\n",
        "ipdata = ipdata.reset_index(drop=True)\n",
        "\n",
        "for i in range(2,len(ipdata)):\n",
        "  if(ipdata.loc[i][\"label\"] == \"ZIP\" and ipdata.loc[i-1][\"label\"] == \"STATE\" and ipdata.loc[i-2][\"label\"] == \"CITY\"):\n",
        "    if(int(ipdata.loc[i-1][\"start\"]) < int(ipdata.loc[i-2][\"end\"])):\n",
        "      ipdata.loc[i-1,\"start\"] = int(ipdata.loc[i-2][\"end\"])+2\n",
        "      ipdata.loc[i-1,\"end\"] = int(ipdata.loc[i-1][\"start\"])+len(ipdata.loc[i][\"content\"])\n",
        "    if(int(ipdata.loc[i][\"start\"]) < int(ipdata.loc[i-1][\"end\"])):\n",
        "      ipdata.loc[i,\"start\"] = int(ipdata.loc[i-1][\"end\"])+2\n",
        "      ipdata.loc[i,\"end\"] = int(ipdata.loc[i][\"start\"])+len(ipdata.loc[i][\"content\"])\n",
        "\n",
        "end = 0\n",
        "i=1\n",
        "\n",
        "while(i!=len(ipdata)-1):\n",
        "   if (ipdata.loc[i][\"file_name\"] == ipdata.loc[i-1][\"file_name\"]):\n",
        "    if(int(ipdata.loc[i][\"start\"]) > end):\n",
        "      end = int(ipdata.loc[i][\"end\"])\n",
        "      i+=1\n",
        "    else:\n",
        "      ipdata=ipdata.drop(i)\n",
        "      ipdata = ipdata.reset_index(drop=True)\n",
        "   else:\n",
        "    if(ipdata.loc[i][\"start\"] >= 0):\n",
        "      end = ipdata.loc[i][\"end\"]\n",
        "      i+=1\n",
        "    else:\n",
        "      ipdata=ipdata.drop(i)\n",
        "      ipdata = ipdata.reset_index(drop=True)\n",
        "ipdata = ipdata.reset_index(drop=True)\n",
        "\n",
        "ipdata.replace('NULL', np.nan, inplace=True)\n",
        "ipdata.to_csv(\"answer.txt\", sep='\\t', index=False, header=False)"
      ],
      "metadata": {
        "id": "9gSLAjdLqCn1"
      },
      "execution_count": null,
      "outputs": []
    }
  ]
}