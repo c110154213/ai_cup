{
  "nbformat": 4,
  "nbformat_minor": 0,
  "metadata": {
    "colab": {
      "provenance": []
    },
    "kernelspec": {
      "name": "python3",
      "display_name": "Python 3"
    },
    "language_info": {
      "name": "python"
    }
  },
  "cells": [
    {
      "cell_type": "code",
      "execution_count": null,
      "metadata": {
        "id": "IuUJyXZcLbzj"
      },
      "outputs": [],
      "source": [
        "import numpy as np\n",
        "import pandas as pd\n",
        "pd.set_option('display.max_rows',None)"
      ]
    },
    {
      "cell_type": "code",
      "source": [
        "ipdata=pd.read_csv(\"train.tsv\",sep='\\t',header=None,names=['file_name','start','content',\"PHI\"])\n",
        "print(len(ipdata))\n",
        "for i in range(len(ipdata)) :\n",
        "  if(ipdata.loc[i][\"PHI\"] == \"PHI: NULL\") :\n",
        "     ipdata = ipdata.drop(i)\n",
        "ipdata.replace('NULL', np.nan, inplace=True)\n",
        "ipdata.to_csv(\"outputsec.tsv\", sep='\\t', index=False, header=False)"
      ],
      "metadata": {
        "id": "iTIFZVJuLnuF",
        "colab": {
          "base_uri": "https://localhost:8080/"
        },
        "outputId": "f444d7f9-a7f5-4553-875a-a4e2e16a15fb"
      },
      "execution_count": null,
      "outputs": [
        {
          "output_type": "stream",
          "name": "stdout",
          "text": [
            "40658\n",
            "6527\n"
          ]
        }
      ]
    }
  ]
}