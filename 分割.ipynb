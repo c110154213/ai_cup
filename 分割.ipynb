{
  "nbformat": 4,
  "nbformat_minor": 0,
  "metadata": {
    "colab": {
      "provenance": []
    },
    "kernelspec": {
      "name": "python3",
      "display_name": "Python 3"
    },
    "language_info": {
      "name": "python"
    }
  },
  "cells": [
    {
      "cell_type": "code",
      "source": [
        "import re\n",
        "import pandas as pd\n",
        "import os\n",
        "import csv\n",
        "\n",
        "folder_path = \"/content/drive/MyDrive/opendid_test\"\n",
        "files = os.listdir(folder_path)\n",
        "\n",
        "sorted_files = sorted(files)# 按照文件名的字典順序進行排序\n",
        "\n",
        "column_labels = ['filename', 'start', 'content']\n",
        "output = pd.DataFrame(columns = column_labels)\n",
        "j=0\n",
        "\n",
        "for file_name in sorted_files:\n",
        "    file_path = os.path.join(folder_path, file_name)\n",
        "\n",
        "    with open(file_path, 'r', encoding='utf-8') as file:\n",
        "        content = file.read()\n",
        "\n",
        "    pattern = re.compile(r'(\\n)|(?<!Dr)(\\. )(?![^\\(]*\\))(?![^()]*\\))(?![A-Z])')\n",
        "    sentences = re.split(pattern, content) #(分割條件,檔案)\n",
        "    sentences = [item for item in sentences if item is not None]\n",
        "\n",
        "    file_name=os.path.splitext(file_name)[0]\n",
        "\n",
        "    current_position = 0    #當前位置\n",
        "\n",
        "    for i in range(0, len(sentences)-1, 2):\n",
        "        sentence = sentences[i] + sentences[i + 1]  # 合併句點和後面的空白或換行符號)\n",
        "\n",
        "        if ((sentence.isspace() is False) and sentence[0].isspace()):\n",
        "              num_spaces = len(sentence) - len(sentence.lstrip())\n",
        "              current_position+=num_spaces\n",
        "              sentence = sentence[num_spaces:]\n",
        "\n",
        "        if ((sentence[len(sentence)-2:] == '. ') or (sentence[len(sentence)-1:] == '\\n')):\n",
        "\n",
        "            start_position = current_position  # 起始位置改為目前位置\n",
        "            end_position = start_position + len(sentence)\n",
        "\n",
        "            output.loc[j, \"filename\"] = str(file_name)\n",
        "            output.loc[j, \"start\"] = str(start_position)\n",
        "            output.loc[j, \"content\"] = str(sentence[:len(sentence)-1])\n",
        "\n",
        "            current_position = end_position\n",
        "            if not output.loc[j][\"content\"].strip():\n",
        "             output = output.drop(j)\n",
        "            j+=1\n",
        "\n",
        "output = output.reset_index(drop=True)\n",
        "output['content'] = output['content'].str.replace('\\t',' ')\n",
        "\n",
        "output['content'] = output['content'].str.strip()\n",
        "output.to_csv('/content/split.tsv', sep='\\t', index=False, header=False, quoting=csv.QUOTE_NONE, escapechar='\\\\', doublequote=False)"
      ],
      "metadata": {
        "id": "AuWlRBtvqGPX"
      },
      "execution_count": 2,
      "outputs": []
    }
  ]
}